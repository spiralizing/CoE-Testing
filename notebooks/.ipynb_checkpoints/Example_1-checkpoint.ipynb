{
 "cells": [
  {
   "cell_type": "markdown",
   "metadata": {},
   "source": [
    "# Example of the usage for the functions of the Key Finding Algorithm based in the Spiral Representation and the Center of Efect by Elanie Chew\n",
    "\n",
    "## NOTE: Use Julia 1.4 or later, this notebook was created with the v1.4.2 kernel."
   ]
  },
  {
   "cell_type": "code",
   "execution_count": 1,
   "metadata": {},
   "outputs": [
    {
     "name": "stderr",
     "output_type": "stream",
     "text": [
      "┌ Info: Precompiling Distances [b4f34e82-e78d-54a5-968a-f98e89d6e8f7]\n",
      "└ @ Base loading.jl:1260\n",
      "┌ Info: Precompiling InformationMeasures [96684042-fbdc-5399-9b8e-d34e539a126c]\n",
      "└ @ Base loading.jl:1260\n"
     ]
    }
   ],
   "source": [
    "#Loading libraries\n",
    "using FileIO, DelimitedFiles, Statistics, Random, LinearAlgebra, Distances, InformationMeasures"
   ]
  },
  {
   "cell_type": "code",
   "execution_count": 2,
   "metadata": {},
   "outputs": [
    {
     "data": {
      "text/plain": [
       "chunk_voices_measure (generic function with 1 method)"
      ]
     },
     "execution_count": 2,
     "metadata": {},
     "output_type": "execute_result"
    }
   ],
   "source": [
    "#loading the set of functions we are going to use\n",
    "include(\"../src/CEGFunctions.jl\")\n",
    "include(\"../src/Constr_series.jl\")"
   ]
  },
  {
   "cell_type": "code",
   "execution_count": 7,
   "metadata": {},
   "outputs": [],
   "source": [
    "#reading the .csv file previously parsed with midicsv, readdlm reads the file as a table with the token \",\"\n",
    "csv_piece = readdlm(\"../csv_files/bach-js_well-tempered-clavier-i_bwv-846b_(c)bachovich.mid.csv\",',');\n",
    "#not sure why it is labeled as 846 fugue, but it is the 847 fugue."
   ]
  },
  {
   "cell_type": "code",
   "execution_count": 16,
   "metadata": {},
   "outputs": [],
   "source": [
    "#this line is to read the documentation for the functions uncomment and evaluate to read.\n",
    "#?get_piece_by_measure"
   ]
  },
  {
   "cell_type": "code",
   "execution_count": 13,
   "metadata": {},
   "outputs": [],
   "source": [
    "#Getting the piece by measure\n",
    "measures, residues = get_piece_by_measure(csv_piece);"
   ]
  },
  {
   "cell_type": "markdown",
   "metadata": {},
   "source": [
    "## Getting the keys in module 12 (everything mapped to an octave) with four different cases:\n",
    "* Original algorithm with the weight proportional to the duration only.\n",
    "* Extra linear weight (proportional to the height, the lower the more important).\n",
    "* Extra linear weight and extra weight in the first beat.\n",
    "* Extra linear weight and extra weight in the first and third beat."
   ]
  },
  {
   "cell_type": "code",
   "execution_count": 40,
   "metadata": {},
   "outputs": [],
   "source": [
    "#?get_key_sequence"
   ]
  },
  {
   "cell_type": "markdown",
   "metadata": {},
   "source": [
    "### Original: no extra linear weight (height) and no extra beat weight"
   ]
  },
  {
   "cell_type": "code",
   "execution_count": 33,
   "metadata": {
    "collapsed": true
   },
   "outputs": [
    {
     "name": "stdout",
     "output_type": "stream",
     "text": [
      "WARNING! \n",
      " Doing module 12 notes.\n",
      "WARNING! \n",
      " Doing module 12 notes.\n",
      "WARNING! \n",
      " Doing module 12 notes.\n",
      "WARNING! \n",
      " Doing module 12 notes.\n",
      "WARNING! \n",
      " Doing module 12 notes.\n",
      "WARNING! \n",
      " Doing module 12 notes.\n",
      "WARNING! \n",
      " Doing module 12 notes.\n",
      "WARNING! \n",
      " Doing module 12 notes.\n",
      "WARNING! \n",
      " Doing module 12 notes.\n",
      "WARNING! \n",
      " Doing module 12 notes.\n",
      "WARNING! \n",
      " Doing module 12 notes.\n",
      "WARNING! \n",
      " Doing module 12 notes.\n",
      "WARNING! \n",
      " Doing module 12 notes.\n",
      "WARNING! \n",
      " Doing module 12 notes.\n",
      "WARNING! \n",
      " Doing module 12 notes.\n",
      "WARNING! \n",
      " Doing module 12 notes.\n",
      "WARNING! \n",
      " Doing module 12 notes.\n",
      "WARNING! \n",
      " Doing module 12 notes.\n",
      "WARNING! \n",
      " Doing module 12 notes.\n",
      "WARNING! \n",
      " Doing module 12 notes.\n",
      "WARNING! \n",
      " Doing module 12 notes.\n",
      "WARNING! \n",
      " Doing module 12 notes.\n",
      "WARNING! \n",
      " Doing module 12 notes.\n",
      "WARNING! \n",
      " Doing module 12 notes.\n",
      "WARNING! \n",
      " Doing module 12 notes.\n",
      "WARNING! \n",
      " Doing module 12 notes.\n",
      "WARNING! \n",
      " Doing module 12 notes.\n",
      "WARNING! \n",
      " Doing module 12 notes.\n",
      "WARNING! \n",
      " Doing module 12 notes.\n",
      "WARNING! \n",
      " Doing module 12 notes.\n",
      "WARNING! \n",
      " Doing module 12 notes.\n"
     ]
    }
   ],
   "source": [
    "centersoe_or = [] #centers of effect\n",
    "key_distances_or = [] #distances to keys\n",
    "extra_info_or = [] #extra information about the weight of each note.\n",
    "for i = 1:length(measures) #looping over the measures of the piece\n",
    "    out = get_key_sequence(measures[i],mod_12=true) #finding the key sequence for the measure\n",
    "    push!(centersoe_or, out[1]); push!(key_distances_or, out[2][1:24,:]); push!(extra_info_or,out[3])\n",
    "end"
   ]
  },
  {
   "cell_type": "markdown",
   "metadata": {},
   "source": [
    "### Extra linear weight lin_w = 2 and no extra beat weight"
   ]
  },
  {
   "cell_type": "code",
   "execution_count": 36,
   "metadata": {
    "collapsed": true
   },
   "outputs": [
    {
     "name": "stdout",
     "output_type": "stream",
     "text": [
      "WARNING! \n",
      " Doing module 12 notes.\n",
      "WARNING! \n",
      " Doing module 12 notes.\n",
      "WARNING! \n",
      " Doing module 12 notes.\n",
      "WARNING! \n",
      " Doing module 12 notes.\n",
      "WARNING! \n",
      " Doing module 12 notes.\n",
      "WARNING! \n",
      " Doing module 12 notes.\n",
      "WARNING! \n",
      " Doing module 12 notes.\n",
      "WARNING! \n",
      " Doing module 12 notes.\n",
      "WARNING! \n",
      " Doing module 12 notes.\n",
      "WARNING! \n",
      " Doing module 12 notes.\n",
      "WARNING! \n",
      " Doing module 12 notes.\n",
      "WARNING! \n",
      " Doing module 12 notes.\n",
      "WARNING! \n",
      " Doing module 12 notes.\n",
      "WARNING! \n",
      " Doing module 12 notes.\n",
      "WARNING! \n",
      " Doing module 12 notes.\n",
      "WARNING! \n",
      " Doing module 12 notes.\n",
      "WARNING! \n",
      " Doing module 12 notes.\n",
      "WARNING! \n",
      " Doing module 12 notes.\n",
      "WARNING! \n",
      " Doing module 12 notes.\n",
      "WARNING! \n",
      " Doing module 12 notes.\n",
      "WARNING! \n",
      " Doing module 12 notes.\n",
      "WARNING! \n",
      " Doing module 12 notes.\n",
      "WARNING! \n",
      " Doing module 12 notes.\n",
      "WARNING! \n",
      " Doing module 12 notes.\n",
      "WARNING! \n",
      " Doing module 12 notes.\n",
      "WARNING! \n",
      " Doing module 12 notes.\n",
      "WARNING! \n",
      " Doing module 12 notes.\n",
      "WARNING! \n",
      " Doing module 12 notes.\n",
      "WARNING! \n",
      " Doing module 12 notes.\n",
      "WARNING! \n",
      " Doing module 12 notes.\n",
      "WARNING! \n",
      " Doing module 12 notes.\n"
     ]
    }
   ],
   "source": [
    "lw = 2 #the linear factor\n",
    "centersoe_lw = [] #centers of effect\n",
    "key_distances_lw = [] #distances to keys\n",
    "extra_info_lw = [] #extra information about the weight of each note.\n",
    "for i = 1:length(measures) #looping over the measures of the piece\n",
    "    out = get_key_sequence(measures[i],mod_12=true, lin_w=lw) #finding the key sequence for the measure\n",
    "    push!(centersoe_lw, out[1]); push!(key_distances_lw, out[2][1:24,:]); push!(extra_info_lw,out[3])\n",
    "end"
   ]
  },
  {
   "cell_type": "markdown",
   "metadata": {},
   "source": [
    "### Extra linear weight lin_w = 2 and with extra beat weight on beat 1"
   ]
  },
  {
   "cell_type": "code",
   "execution_count": 39,
   "metadata": {
    "collapsed": true
   },
   "outputs": [
    {
     "name": "stdout",
     "output_type": "stream",
     "text": [
      "WARNING! \n",
      " Doing module 12 notes.\n",
      "WARNING! \n",
      " Doing module 12 notes.\n",
      "WARNING! \n",
      " Doing module 12 notes.\n",
      "WARNING! \n",
      " Doing module 12 notes.\n",
      "WARNING! \n",
      " Doing module 12 notes.\n",
      "WARNING! \n",
      " Doing module 12 notes.\n",
      "WARNING! \n",
      " Doing module 12 notes.\n",
      "WARNING! \n",
      " Doing module 12 notes.\n",
      "WARNING! \n",
      " Doing module 12 notes.\n",
      "WARNING! \n",
      " Doing module 12 notes.\n",
      "WARNING! \n",
      " Doing module 12 notes.\n",
      "WARNING! \n",
      " Doing module 12 notes.\n",
      "WARNING! \n",
      " Doing module 12 notes.\n",
      "WARNING! \n",
      " Doing module 12 notes.\n",
      "WARNING! \n",
      " Doing module 12 notes.\n",
      "WARNING! \n",
      " Doing module 12 notes.\n",
      "WARNING! \n",
      " Doing module 12 notes.\n",
      "WARNING! \n",
      " Doing module 12 notes.\n",
      "WARNING! \n",
      " Doing module 12 notes.\n",
      "WARNING! \n",
      " Doing module 12 notes.\n",
      "WARNING! \n",
      " Doing module 12 notes.\n",
      "WARNING! \n",
      " Doing module 12 notes.\n",
      "WARNING! \n",
      " Doing module 12 notes.\n",
      "WARNING! \n",
      " Doing module 12 notes.\n",
      "WARNING! \n",
      " Doing module 12 notes.\n",
      "WARNING! \n",
      " Doing module 12 notes.\n",
      "WARNING! \n",
      " Doing module 12 notes.\n",
      "WARNING! \n",
      " Doing module 12 notes.\n",
      "WARNING! \n",
      " Doing module 12 notes.\n",
      "WARNING! \n",
      " Doing module 12 notes.\n",
      "WARNING! \n",
      " Doing module 12 notes.\n"
     ]
    }
   ],
   "source": [
    "\n",
    "lw = 2 #the linear factor\n",
    "beat_w = [[1.],[3.]] #factor of 3 for the 1st beat\n",
    "centersoe_1b = [] #centers of effect\n",
    "key_distances_1b = [] #distances to keys\n",
    "extra_info_1b = [] #extra information about the weight of each note.\n",
    "for i = 1:length(measures) #looping over the measures of the piece\n",
    "    out = get_key_sequence(measures[i],mod_12=true, lin_w=lw, sbeat_w=beat_w) #finding the key sequence for the measure\n",
    "    push!(centersoe_1b, out[1]); push!(key_distances_1b, out[2][1:24,:]); push!(extra_info_1b,out[3])\n",
    "end"
   ]
  },
  {
   "cell_type": "markdown",
   "metadata": {},
   "source": [
    "### Extra linear weight lin_w = 2 and with extra beat weight on beat 1 and 3\n"
   ]
  },
  {
   "cell_type": "code",
   "execution_count": 41,
   "metadata": {
    "collapsed": true
   },
   "outputs": [
    {
     "name": "stdout",
     "output_type": "stream",
     "text": [
      "WARNING! \n",
      " Doing module 12 notes.\n",
      "WARNING! \n",
      " Doing module 12 notes.\n",
      "WARNING! \n",
      " Doing module 12 notes.\n",
      "WARNING! \n",
      " Doing module 12 notes.\n",
      "WARNING! \n",
      " Doing module 12 notes.\n",
      "WARNING! \n",
      " Doing module 12 notes.\n",
      "WARNING! \n",
      " Doing module 12 notes.\n",
      "WARNING! \n",
      " Doing module 12 notes.\n",
      "WARNING! \n",
      " Doing module 12 notes.\n",
      "WARNING! \n",
      " Doing module 12 notes.\n",
      "WARNING! \n",
      " Doing module 12 notes.\n",
      "WARNING! \n",
      " Doing module 12 notes.\n",
      "WARNING! \n",
      " Doing module 12 notes.\n",
      "WARNING! \n",
      " Doing module 12 notes.\n",
      "WARNING! \n",
      " Doing module 12 notes.\n",
      "WARNING! \n",
      " Doing module 12 notes.\n",
      "WARNING! \n",
      " Doing module 12 notes.\n",
      "WARNING! \n",
      " Doing module 12 notes.\n",
      "WARNING! \n",
      " Doing module 12 notes.\n",
      "WARNING! \n",
      " Doing module 12 notes.\n",
      "WARNING! \n",
      " Doing module 12 notes.\n",
      "WARNING! \n",
      " Doing module 12 notes.\n",
      "WARNING! \n",
      " Doing module 12 notes.\n",
      "WARNING! \n",
      " Doing module 12 notes.\n",
      "WARNING! \n",
      " Doing module 12 notes.\n",
      "WARNING! \n",
      " Doing module 12 notes.\n",
      "WARNING! \n",
      " Doing module 12 notes.\n",
      "WARNING! \n",
      " Doing module 12 notes.\n",
      "WARNING! \n",
      " Doing module 12 notes.\n",
      "WARNING! \n",
      " Doing module 12 notes.\n",
      "WARNING! \n",
      " Doing module 12 notes.\n"
     ]
    }
   ],
   "source": [
    "lw = 2 #the linear factor\n",
    "beat_w = [[1.,3.],[3.,2.]] #factor of 3 for the 1st beat and 2 for the 3rd\n",
    "centersoe_13b = [] #centers of effect\n",
    "key_distances_13b = [] #distances to keys\n",
    "extra_info_13b = [] #extra information about the weight of each note.\n",
    "for i = 1:length(measures) #looping over the measures of the piece\n",
    "    out = get_key_sequence(measures[i],mod_12=true, lin_w=lw, sbeat_w=beat_w) #finding the key sequence for the measure\n",
    "    push!(centersoe_13b, out[1]); push!(key_distances_13b, out[2][1:24,:]); push!(extra_info_13b,out[3])\n",
    "end"
   ]
  },
  {
   "cell_type": "code",
   "execution_count": null,
   "metadata": {},
   "outputs": [],
   "source": []
  }
 ],
 "metadata": {
  "kernelspec": {
   "display_name": "Julia 1.4.2",
   "language": "julia",
   "name": "julia-1.4"
  },
  "language_info": {
   "file_extension": ".jl",
   "mimetype": "application/julia",
   "name": "julia",
   "version": "1.4.2"
  }
 },
 "nbformat": 4,
 "nbformat_minor": 2
}
